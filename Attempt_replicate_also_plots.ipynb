{
 "cells": [
  {
   "cell_type": "code",
   "execution_count": 2,
   "metadata": {},
   "outputs": [],
   "source": [
    "import pandas as pd\n",
    "import numpy as np\n",
    "import matplotlib.pyplot as plt\n",
    "import keras\n",
    "\n",
    "seeed = 185"
   ]
  },
  {
   "cell_type": "markdown",
   "metadata": {},
   "source": [
    "# cHANGELIST\n",
    "\n",
    "* Loading and resizing images now done together in the same block\n",
    "* Invalid image paths are removed\n",
    "* More model architectures are considered."
   ]
  },
  {
   "cell_type": "code",
   "execution_count": 3,
   "metadata": {},
   "outputs": [],
   "source": [
    "import os\n",
    "\n",
    "# Customised for Windows setup\n",
    "# os.chdir('SharedFiles/MAST30034-Group-Project/')"
   ]
  },
  {
   "cell_type": "code",
   "execution_count": 4,
   "metadata": {},
   "outputs": [],
   "source": [
    "# Customised for Mac/Linux setup\n",
    "raw_data = pd.read_csv(\"kaggle_bee_vs_wasp/labels.csv\")\n",
    "raw_data['path'] = raw_data['path'].str.replace(\"\\\\\", \"/\")"
   ]
  },
  {
   "cell_type": "markdown",
   "metadata": {},
   "source": [
    "By removing the low quality photos, we get rid of the is_other instances"
   ]
  },
  {
   "cell_type": "code",
   "execution_count": 5,
   "metadata": {},
   "outputs": [],
   "source": [
    "high_quality_entries = raw_data[raw_data[\"photo_quality\"] == 1]\n",
    "high_quality_entries =high_quality_entries[high_quality_entries[\"label\"] != \"insect\"]"
   ]
  },
  {
   "cell_type": "code",
   "execution_count": 6,
   "metadata": {
    "scrolled": true
   },
   "outputs": [
    {
     "name": "stdout",
     "output_type": "stream",
     "text": [
      "(4596, 10)\n"
     ]
    },
    {
     "data": {
      "text/html": [
       "<div>\n",
       "<style scoped>\n",
       "    .dataframe tbody tr th:only-of-type {\n",
       "        vertical-align: middle;\n",
       "    }\n",
       "\n",
       "    .dataframe tbody tr th {\n",
       "        vertical-align: top;\n",
       "    }\n",
       "\n",
       "    .dataframe thead th {\n",
       "        text-align: right;\n",
       "    }\n",
       "</style>\n",
       "<table border=\"1\" class=\"dataframe\">\n",
       "  <thead>\n",
       "    <tr style=\"text-align: right;\">\n",
       "      <th></th>\n",
       "      <th>id</th>\n",
       "      <th>path</th>\n",
       "      <th>is_bee</th>\n",
       "      <th>is_wasp</th>\n",
       "      <th>is_otherinsect</th>\n",
       "      <th>is_other</th>\n",
       "      <th>photo_quality</th>\n",
       "      <th>is_validation</th>\n",
       "      <th>is_final_validation</th>\n",
       "      <th>label</th>\n",
       "    </tr>\n",
       "  </thead>\n",
       "  <tbody>\n",
       "    <tr>\n",
       "      <th>0</th>\n",
       "      <td>1</td>\n",
       "      <td>bee1/10007154554_026417cfd0_n.jpg</td>\n",
       "      <td>1</td>\n",
       "      <td>0</td>\n",
       "      <td>0</td>\n",
       "      <td>0</td>\n",
       "      <td>1</td>\n",
       "      <td>0</td>\n",
       "      <td>0</td>\n",
       "      <td>bee</td>\n",
       "    </tr>\n",
       "    <tr>\n",
       "      <th>1</th>\n",
       "      <td>2</td>\n",
       "      <td>bee1/10024864894_6dc54d4b34_n.jpg</td>\n",
       "      <td>1</td>\n",
       "      <td>0</td>\n",
       "      <td>0</td>\n",
       "      <td>0</td>\n",
       "      <td>1</td>\n",
       "      <td>0</td>\n",
       "      <td>1</td>\n",
       "      <td>bee</td>\n",
       "    </tr>\n",
       "    <tr>\n",
       "      <th>2</th>\n",
       "      <td>3</td>\n",
       "      <td>bee1/10092043833_7306dfd1f0_n.jpg</td>\n",
       "      <td>1</td>\n",
       "      <td>0</td>\n",
       "      <td>0</td>\n",
       "      <td>0</td>\n",
       "      <td>1</td>\n",
       "      <td>1</td>\n",
       "      <td>0</td>\n",
       "      <td>bee</td>\n",
       "    </tr>\n",
       "    <tr>\n",
       "      <th>3</th>\n",
       "      <td>4</td>\n",
       "      <td>bee1/1011948979_fc3637e779_w.jpg</td>\n",
       "      <td>1</td>\n",
       "      <td>0</td>\n",
       "      <td>0</td>\n",
       "      <td>0</td>\n",
       "      <td>1</td>\n",
       "      <td>0</td>\n",
       "      <td>1</td>\n",
       "      <td>bee</td>\n",
       "    </tr>\n",
       "    <tr>\n",
       "      <th>4</th>\n",
       "      <td>5</td>\n",
       "      <td>bee1/10128235063_dca17db76c_n.jpg</td>\n",
       "      <td>1</td>\n",
       "      <td>0</td>\n",
       "      <td>0</td>\n",
       "      <td>0</td>\n",
       "      <td>1</td>\n",
       "      <td>0</td>\n",
       "      <td>0</td>\n",
       "      <td>bee</td>\n",
       "    </tr>\n",
       "  </tbody>\n",
       "</table>\n",
       "</div>"
      ],
      "text/plain": [
       "   id                               path  is_bee  is_wasp  is_otherinsect  \\\n",
       "0   1  bee1/10007154554_026417cfd0_n.jpg       1        0               0   \n",
       "1   2  bee1/10024864894_6dc54d4b34_n.jpg       1        0               0   \n",
       "2   3  bee1/10092043833_7306dfd1f0_n.jpg       1        0               0   \n",
       "3   4   bee1/1011948979_fc3637e779_w.jpg       1        0               0   \n",
       "4   5  bee1/10128235063_dca17db76c_n.jpg       1        0               0   \n",
       "\n",
       "   is_other  photo_quality  is_validation  is_final_validation label  \n",
       "0         0              1              0                    0   bee  \n",
       "1         0              1              0                    1   bee  \n",
       "2         0              1              1                    0   bee  \n",
       "3         0              1              0                    1   bee  \n",
       "4         0              1              0                    0   bee  "
      ]
     },
     "execution_count": 6,
     "metadata": {},
     "output_type": "execute_result"
    }
   ],
   "source": [
    "print(high_quality_entries.shape)\n",
    "high_quality_entries.head()"
   ]
  },
  {
   "cell_type": "code",
   "execution_count": 7,
   "metadata": {},
   "outputs": [],
   "source": [
    "[_,label_num] = np.unique(high_quality_entries[\"label\"].values, return_inverse = True)\n",
    "high_quality_entries.insert(loc = 0, column = \"label_num\", value = label_num)"
   ]
  },
  {
   "cell_type": "code",
   "execution_count": 8,
   "metadata": {
    "scrolled": true
   },
   "outputs": [
    {
     "name": "stdout",
     "output_type": "stream",
     "text": [
      "(4596, 11)\n",
      "(4592, 11)\n"
     ]
    }
   ],
   "source": [
    "print(high_quality_entries.shape)\n",
    "\n",
    "for ind, row in high_quality_entries.iterrows():\n",
    "    if not os.path.exists(\"kaggle_bee_vs_wasp/\" + row['path']):\n",
    "        #print(row)\n",
    "        high_quality_entries = high_quality_entries.drop(ind)\n",
    "        \n",
    "print(high_quality_entries.shape)"
   ]
  },
  {
   "cell_type": "code",
   "execution_count": 9,
   "metadata": {},
   "outputs": [
    {
     "data": {
      "text/plain": [
       "0"
      ]
     },
     "execution_count": 9,
     "metadata": {},
     "output_type": "execute_result"
    }
   ],
   "source": [
    "# no non-insects found in the dataset\n",
    "list(high_quality_entries[\"is_other\"]).count(1)"
   ]
  },
  {
   "cell_type": "code",
   "execution_count": 10,
   "metadata": {},
   "outputs": [
    {
     "data": {
      "text/plain": [
       "False"
      ]
     },
     "execution_count": 10,
     "metadata": {},
     "output_type": "execute_result"
    }
   ],
   "source": [
    "3 in list(high_quality_entries[\"label_num\"].values)"
   ]
  },
  {
   "cell_type": "code",
   "execution_count": 11,
   "metadata": {},
   "outputs": [],
   "source": [
    "#taking a random sample for faster training time\n",
    "# high_quality_entries = high_quality_entries.sample(1000)"
   ]
  },
  {
   "cell_type": "code",
   "execution_count": 12,
   "metadata": {},
   "outputs": [],
   "source": [
    "images_path = high_quality_entries[\"path\"].values.reshape(-1, 1)\n",
    "labels = high_quality_entries[\"label\"].values.reshape(-1, 1)"
   ]
  },
  {
   "cell_type": "markdown",
   "metadata": {},
   "source": [
    "# Data"
   ]
  },
  {
   "cell_type": "code",
   "execution_count": 13,
   "metadata": {},
   "outputs": [],
   "source": [
    "from matplotlib.image import imread\n",
    "from skimage.transform import resize"
   ]
  },
  {
   "cell_type": "code",
   "execution_count": 14,
   "metadata": {
    "tags": []
   },
   "outputs": [
    {
     "name": "stdout",
     "output_type": "stream",
     "text": [
      "1667\n",
      "4030\n",
      "4030\n",
      "1667\n",
      "Number of images: (4590, 224, 224, 3)\n",
      "Number of labels: (4590,)\n"
     ]
    }
   ],
   "source": [
    "images = []\n",
    "\n",
    "# random_sample = high_quality_entries.sample(10)\n",
    "# Train 50 for now just to get the code running\n",
    "\n",
    "# Read, resize, store\n",
    "for image_path in images_path:\n",
    "    img = imread(os.path.join(\"kaggle_bee_vs_wasp\", image_path[0]))\n",
    "    img = resize(img, (224,224))\n",
    "    images.append(img)\n",
    "\n",
    "# Removed wrong size\n",
    "images_to_remove_indecies = []\n",
    "\n",
    "for im in range(len(images)):\n",
    "    if images[im].shape != (224,224,3):\n",
    "        #print(im)\n",
    "        images_to_remove_indecies.append(im)\n",
    "\n",
    "for index in images_to_remove_indecies:\n",
    "    print(index)\n",
    "\n",
    "#remove the labels of the anomalous images\n",
    "labels_deleted = np.delete(labels, images_to_remove_indecies)\n",
    "\n",
    "for im in reversed(images_to_remove_indecies):\n",
    "    print(im)\n",
    "    del images[im]\n",
    "    \n",
    "image_array = np.array(images)\n",
    "print('Number of images:', image_array.shape)\n",
    "print('Number of labels:', labels_deleted.shape)"
   ]
  },
  {
   "cell_type": "code",
   "execution_count": 15,
   "metadata": {
    "scrolled": false
   },
   "outputs": [],
   "source": [
    "# #If you need to check the images.\n",
    "\n",
    "# #imread outputs integers between 0-255\n",
    "\n",
    "# images[0]\n",
    "# f,ax = plt.subplots(3,3)\n",
    "# for i in range(3):\n",
    "#     for j in range(3):\n",
    "#         ax[i,j].imshow(images[i+3*j])"
   ]
  },
  {
   "cell_type": "markdown",
   "metadata": {},
   "source": [
    "## Encoding the image labels"
   ]
  },
  {
   "cell_type": "code",
   "execution_count": 16,
   "metadata": {},
   "outputs": [],
   "source": [
    "from sklearn.preprocessing import LabelEncoder, OneHotEncoder"
   ]
  },
  {
   "cell_type": "code",
   "execution_count": 17,
   "metadata": {
    "scrolled": true
   },
   "outputs": [
    {
     "name": "stdout",
     "output_type": "stream",
     "text": [
      "number of labels: 4590\n"
     ]
    }
   ],
   "source": [
    "# Encode as integers\n",
    "encoder = LabelEncoder()\n",
    "transformed_label = encoder.fit_transform(np.ravel(labels_deleted))\n",
    "\n",
    "print('number of labels:', len(transformed_label))"
   ]
  },
  {
   "cell_type": "code",
   "execution_count": 18,
   "metadata": {},
   "outputs": [
    {
     "data": {
      "text/plain": [
       "(array([0, 1]), array([2468, 2122]))"
      ]
     },
     "execution_count": 18,
     "metadata": {},
     "output_type": "execute_result"
    }
   ],
   "source": [
    "np.unique(transformed_label, return_counts=True)"
   ]
  },
  {
   "cell_type": "code",
   "execution_count": 19,
   "metadata": {},
   "outputs": [
    {
     "name": "stdout",
     "output_type": "stream",
     "text": [
      "0.5376906318082789\n"
     ]
    }
   ],
   "source": [
    "# OR baseline\n",
    "print(max(np.unique(transformed_label, return_counts=True)[1])/len(transformed_label)) \n",
    "# 54% is the baseline"
   ]
  },
  {
   "cell_type": "markdown",
   "metadata": {},
   "source": [
    "# Data augmentation\n",
    "\n",
    "Split a training set from a validation set first, to prevent data leakage.\n",
    "Augment a training set.\n",
    "\n",
    "https://stats.stackexchange.com/questions/175504/how-to-do-data-augmentation-and-train-validate-split"
   ]
  },
  {
   "cell_type": "code",
   "execution_count": 20,
   "metadata": {
    "scrolled": true
   },
   "outputs": [
    {
     "name": "stdout",
     "output_type": "stream",
     "text": [
      "Total: (4590, 224, 224, 3) (4590,)\n",
      "Train: (3198, 224, 224, 3) (3198,)\n",
      "Val: (703, 224, 224, 3) (703,)\n",
      "Test: (689, 224, 224, 3) (689,)\n"
     ]
    }
   ],
   "source": [
    "#Train/validation/test split\n",
    "from sklearn.model_selection import train_test_split\n",
    "\n",
    "# 15% in test\n",
    "Xtrain, Xtest, Ytrain, Ytest = train_test_split(image_array, transformed_label, \n",
    "                                              test_size = 0.15, random_state = seeed, \n",
    "                                              stratify = transformed_label)\n",
    "\n",
    "# of 70%, 20% in validation\n",
    "Xtrain, Xval, Ytrain, Yval = train_test_split(Xtrain, Ytrain, \n",
    "                                              test_size = 0.18, random_state = seeed, \n",
    "                                              stratify = Ytrain)\n",
    "\n",
    "#70% training, 15% validation, 15% in test\n",
    "\n",
    "print('Total:', image_array.shape, transformed_label.shape)\n",
    "print('Train:', Xtrain.shape, Ytrain.shape)\n",
    "print('Val:', Xval.shape, Yval.shape)\n",
    "print('Test:', Xtest.shape, Ytest.shape)"
   ]
  },
  {
   "cell_type": "code",
   "execution_count": 21,
   "metadata": {},
   "outputs": [],
   "source": [
    "# Augmented training data\n",
    "train_generator = keras.preprocessing.image.ImageDataGenerator(\n",
    "    featurewise_center=True, \n",
    "    featurewise_std_normalization=True,\n",
    "    rotation_range=90,\n",
    "    zoom_range=0.4,\n",
    "    horizontal_flip=True,\n",
    "    # vertical_flip==True,\n",
    "    width_shift_range=0.1,\n",
    "    height_shift_range=0.1,\n",
    "    channel_shift_range=0.3)\n",
    "\n",
    "# No augmentation on validation\n",
    "val_generator = keras.preprocessing.image.ImageDataGenerator()\n",
    "\n",
    "train_generator.fit(Xtrain)"
   ]
  },
  {
   "cell_type": "code",
   "execution_count": 22,
   "metadata": {
    "scrolled": false
   },
   "outputs": [
    {
     "name": "stderr",
     "output_type": "stream",
     "text": [
      "Clipping input data to the valid range for imshow with RGB data ([0..1] for floats or [0..255] for integers).\n",
      "Clipping input data to the valid range for imshow with RGB data ([0..1] for floats or [0..255] for integers).\n",
      "Clipping input data to the valid range for imshow with RGB data ([0..1] for floats or [0..255] for integers).\n",
      "Clipping input data to the valid range for imshow with RGB data ([0..1] for floats or [0..255] for integers).\n",
      "Clipping input data to the valid range for imshow with RGB data ([0..1] for floats or [0..255] for integers).\n",
      "Clipping input data to the valid range for imshow with RGB data ([0..1] for floats or [0..255] for integers).\n",
      "Clipping input data to the valid range for imshow with RGB data ([0..1] for floats or [0..255] for integers).\n",
      "Clipping input data to the valid range for imshow with RGB data ([0..1] for floats or [0..255] for integers).\n",
      "Clipping input data to the valid range for imshow with RGB data ([0..1] for floats or [0..255] for integers).\n"
     ]
    },
    {
     "data": {
      "image/png": "[encoded data removed]",
      "text/plain": [
       "<Figure size 432x288 with 9 Axes>"
      ]
     },
     "metadata": {
      "needs_background": "light"
     },
     "output_type": "display_data"
    }
   ],
   "source": [
    "# If images need to be viewed, use batch size 1. Else keep batch size 32\n",
    "\n",
    "augmented_train = train_generator.flow(Xtrain, Ytrain, batch_size=1)\n",
    "\n",
    "for i in range(9):\n",
    "    # define subplot\n",
    "    plt.subplot(330 + 1 + i)\n",
    "    # generate batch of images\n",
    "    batch = augmented_train.next()\n",
    "    # convert to unsigned integers for viewing\n",
    "    image = batch[0]\n",
    "#     # plot raw pixel data\n",
    "    image = np.reshape(image, (224,224,3))\n",
    "    plt.imshow(image)"
   ]
  },
  {
   "cell_type": "markdown",
   "metadata": {},
   "source": [
    "# Model Construction"
   ]
  },
  {
   "cell_type": "markdown",
   "metadata": {},
   "source": [
    "## Metrics: Accuracy and Loss"
   ]
  },
  {
   "cell_type": "code",
   "execution_count": 23,
   "metadata": {},
   "outputs": [],
   "source": [
    "def plot_model_metrics(hist):\n",
    "\n",
    "    f, ax = plt.subplots(2,1)\n",
    "    f.subplots_adjust(hspace=0.6)\n",
    "\n",
    "    ax[0].plot(np.arange(0,len(hist.history['accuracy'])), hist.history['accuracy'])\n",
    "    ax[0].plot(np.arange(0,len(hist.history['val_accuracy'])), hist.history['val_accuracy'])\n",
    "    ax[0].legend(['training', 'validation'])\n",
    "\n",
    "    ax[0].set_xticks(ticks=np.arange(0,len(hist.history['accuracy'])))\n",
    "    \n",
    "    ax[0].set_xticklabels(labels=np.arange(0,len(hist.history['accuracy'])))\n",
    "    ax[0].set_xlim(0,len(hist.history['accuracy']))\n",
    "    ax[0].set_xlabel('Epochs')\n",
    "    ax[0].set_title('Model Accuracy')\n",
    "\n",
    "    ax[1].plot(np.arange(0,len(hist.history['loss'])), hist.history['loss'])\n",
    "    ax[1].plot(np.arange(0,len(hist.history['val_loss'])), hist.history['val_loss'])\n",
    "    ax[1].legend(['training', 'validation'])\n",
    "\n",
    "    ax[1].set_xticks(ticks=np.arange(0,len(hist.history['accuracy'])))\n",
    "    ax[1].set_xticklabels(labels=np.arange(0,len(hist.history['accuracy'])))\n",
    "    ax[1].set_xlim(0,len(hist.history['accuracy']))\n",
    "    ax[1].set_xlabel('Epochs')\n",
    "    ax[1].set_title('Loss')\n",
    "    "
   ]
  },
  {
   "cell_type": "code",
   "execution_count": 24,
   "metadata": {},
   "outputs": [],
   "source": [
    "from sklearn.metrics import classification_report, confusion_matrix\n",
    "\n",
    "def confusion_report(truth, predictions):\n",
    "    '''\n",
    "    Input:\n",
    "        truth - true labels\n",
    "        predictions - model.predict(data)\n",
    "    '''\n",
    "    print(classification_report(truth, np.argmax(predictions, axis=-1)))\n",
    "    print(confusion_matrix(truth, np.argmax(predictions, axis=-1)))"
   ]
  },
  {
   "cell_type": "markdown",
   "metadata": {},
   "source": [
    "# Model - MobileNetV2 (baseline)\n",
    "\n",
    "3692 images in a training set. Augmented images will be generated from this set for training.\n",
    "\n",
    "1231 unaugmented images will be used for validation."
   ]
  },
  {
   "cell_type": "code",
   "execution_count": 25,
   "metadata": {
    "scrolled": true
   },
   "outputs": [
    {
     "name": "stdout",
     "output_type": "stream",
     "text": [
      "WARNING:tensorflow:`input_shape` is undefined or non-square, or `rows` is not in [96, 128, 160, 192, 224]. Weights for input shape (224, 224) will be loaded as the default.\n"
     ]
    }
   ],
   "source": [
    "mbnet = keras.applications.mobilenet_v2.MobileNetV2(include_top=False, weights='imagenet')\n",
    "avg = keras.layers.GlobalAveragePooling2D()(mbnet.output)\n",
    "#drop = keras.layers.Dropout(0.7)(avg)\n",
    "\n",
    "# flat = keras.layers.Flatten()(mbnet.output)\n",
    "# avg = keras.layers.Dense(6, activation='relu')(flat)\n",
    "\n",
    "output = keras.layers.Dense(2, activation='softmax')(avg)\n",
    "\n",
    "m0 = keras.Model(inputs = mbnet.input, outputs = output)\n",
    "\n",
    "# for layer in mbnet.layers:\n",
    "#     layer.trainable = False\n",
    "\n",
    "optimizer = keras.optimizers.SGD(lr=0.01, momentum= 0.9, decay = 0.01)\n",
    "\n",
    "m0.compile(loss=\"sparse_categorical_crossentropy\", \n",
    "           optimizer=optimizer,\n",
    "           metrics=[\"accuracy\"])"
   ]
  },
  {
   "cell_type": "code",
   "execution_count": null,
   "metadata": {
    "scrolled": true
   },
   "outputs": [
    {
     "name": "stdout",
     "output_type": "stream",
     "text": [
      "Epoch 1/23\n",
      "20/20 [==============================] - 188s 9s/step - loss: 0.5686 - accuracy: 0.7688 - val_loss: 1.4699 - val_accuracy: 0.6188\n",
      "Epoch 2/23\n",
      " 7/20 [=========>....................] - ETA: 1:40 - loss: 0.7673 - accuracy: 0.7723"
     ]
    }
   ],
   "source": [
    "callback = keras.callbacks.EarlyStopping(monitor='val_loss', patience=3, \n",
    "                                         min_delta = 0.005, \n",
    "                                         restore_best_weights=True)\n",
    "\n",
    "\n",
    "h0 = m0.fit(train_generator.flow(Xtrain, Ytrain, batch_size=32), \n",
    "            epochs=23, steps_per_epoch=20,\n",
    "            validation_data = (Xval, Yval),\n",
    "            callbacks = [callback])\n",
    "\n",
    "# Batches per epoch changed so that 1 epoch = 1 cycle of length len(Xtrain)\n",
    "\n",
    "# Trains 3,200 images\n",
    "# Validates on len(Yval) (should be entire validation set)"
   ]
  },
  {
   "cell_type": "code",
   "execution_count": null,
   "metadata": {},
   "outputs": [],
   "source": [
    "# \"sparse\"\n",
    "predss0 = m0.predict(Xtest)\n",
    "predss0[0:15]"
   ]
  },
  {
   "cell_type": "code",
   "execution_count": null,
   "metadata": {
    "scrolled": true
   },
   "outputs": [],
   "source": [
    "plt.hist(predss0[:,0],)\n",
    "plt.title('Distribution of final outputs for \"bee\" (test set)')\n",
    "plt.xlabel('Final output')\n",
    "plt.ylabel('Number of instances')\n",
    "plt.savefig('Mnv2_result1.png', dpi=300)"
   ]
  },
  {
   "cell_type": "code",
   "execution_count": null,
   "metadata": {
    "scrolled": true
   },
   "outputs": [],
   "source": [
    "predss0 = m0.evaluate(Xtest, Ytest)"
   ]
  },
  {
   "cell_type": "code",
   "execution_count": null,
   "metadata": {},
   "outputs": [],
   "source": [
    "confusion_report(Ytest, m0.predict(Xtest))"
   ]
  },
  {
   "cell_type": "code",
   "execution_count": null,
   "metadata": {},
   "outputs": [],
   "source": [
    "from sklearn.metrics import accuracy_score\n",
    "\n",
    "accuracy_score(Ytest, m0.predict(Xtest))"
   ]
  },
  {
   "cell_type": "code",
   "execution_count": null,
   "metadata": {},
   "outputs": [],
   "source": [
    "i = 0\n",
    "clist =[]\n",
    "for c in range(len(Xval)):\n",
    "    if predss0[c,0] < 0.1 or predss0[c,0] > 0.9:\n",
    "        clist.append(c)\n",
    "        i += 1\n",
    "        \n",
    "print(i)"
   ]
  },
  {
   "cell_type": "code",
   "execution_count": null,
   "metadata": {
    "scrolled": true
   },
   "outputs": [],
   "source": [
    "m1.predict(Xval[78:79])"
   ]
  },
  {
   "cell_type": "code",
   "execution_count": null,
   "metadata": {},
   "outputs": [],
   "source": [
    "plt.imshow(Xval[218])"
   ]
  },
  {
   "cell_type": "code",
   "execution_count": null,
   "metadata": {},
   "outputs": [],
   "source": [
    "hist = h0\n",
    "\n",
    "f, ax = plt.subplots(2,1)\n",
    "f.subplots_adjust(hspace=0.5)\n",
    "f.set_figwidth(6)\n",
    "f.set_figheight(8)\n",
    "\n",
    "ax[0].plot(np.arange(0,len(hist.history['loss'])), hist.history['loss'])\n",
    "ax[0].plot(np.arange(0,len(hist.history['val_loss'])), hist.history['val_loss'])\n",
    "ax[0].legend(['Training', 'Validation'])\n",
    "\n",
    "ax[0].set_xticks(ticks=np.arange(0,len(hist.history['accuracy']),2))\n",
    "ax[0].set_xticklabels(labels=1280*np.arange(0,len(hist.history['accuracy']),2))\n",
    "\n",
    "ax[0].set_xlim(0,len(hist.history['accuracy']))\n",
    "ax[0].set_xlabel('Training examples')\n",
    "ax[0].set_title('Cross Entropy')\n",
    "# ax[0].set_ylim(0.75,0.95)\n",
    "\n",
    "ax[1].plot(np.arange(0,len(hist.history['accuracy'])), hist.history['accuracy'])\n",
    "ax[1].plot(np.arange(0,len(hist.history['val_accuracy'])), hist.history['val_accuracy'])\n",
    "ax[1].legend(['Training', 'Validation'])\n",
    "\n",
    "ax[1].set_xticks(ticks=np.arange(0,len(hist.history['accuracy']),2))\n",
    "\n",
    "ax[1].set_xticklabels(labels=1280*np.arange(0,len(hist.history['accuracy']),2))\n",
    "ax[1].set_xlim(0,len(hist.history['accuracy']))\n",
    "ax[1].set_xlabel('Training Examples')\n",
    "ax[1].set_title('Accuracy')\n",
    "\n",
    "f.savefig('Mbv2_BestLearningCurve.png', dpi=300)"
   ]
  },
  {
   "cell_type": "code",
   "execution_count": null,
   "metadata": {
    "scrolled": true
   },
   "outputs": [],
   "source": [
    "m0.evaluate(Xtest,Ytest)"
   ]
  },
  {
   "cell_type": "code",
   "execution_count": null,
   "metadata": {},
   "outputs": [],
   "source": [
    "Xtrain.shape"
   ]
  },
  {
   "cell_type": "code",
   "execution_count": null,
   "metadata": {},
   "outputs": [],
   "source": [
    "Ytrain[4]"
   ]
  },
  {
   "cell_type": "code",
   "execution_count": null,
   "metadata": {
    "scrolled": true
   },
   "outputs": [],
   "source": [
    "plot_model_metrics(h0)"
   ]
  },
  {
   "cell_type": "code",
   "execution_count": null,
   "metadata": {
    "scrolled": false
   },
   "outputs": [],
   "source": [
    "confusion_report(Ytrain, m0.predict(Xtrain))"
   ]
  },
  {
   "cell_type": "code",
   "execution_count": null,
   "metadata": {},
   "outputs": [],
   "source": [
    "confusion_report(Yval, m0.predict(Xval))"
   ]
  },
  {
   "cell_type": "code",
   "execution_count": null,
   "metadata": {},
   "outputs": [],
   "source": [
    "confusion_report(Ytest, m0.predict(Xtest))"
   ]
  },
  {
   "cell_type": "markdown",
   "metadata": {},
   "source": [
    "# Model Design\n",
    "\n",
    "Speeding up training:\n",
    "* Batch normalisation, Adam optimisation\n",
    "\n",
    "Design options\n",
    "* Convolution: Window size, Stride\n",
    "* Activation functions: Softmax, ReLU\n",
    "* Pooling: Average, Max\n",
    "* Dense layer - fully connected.\n",
    "\n",
    "Regularisation options\n",
    "* Dropout: for regularisation\n",
    "\n",
    "Other options\n",
    "* Residual block (resnet)\n",
    "* Batch normalisation: makes models faster and more stable.\n",
    "\n",
    "Design recommendations\n",
    "* Multiple 3x3 convolutions are preferred. (https://medium.com/analytics-vidhya/how-to-choose-the-size-of-the-convolution-filter-or-kernel-size-for-cnn-86a55a1e2d15, VGGNet?)\n",
    "* Downsample by using pooling to reduce spatial information\n",
    "* Common paradigm is to use max pooling in the network, and average pooling at the end, before the last dense layer\n",
    "* Depth tends to result in higher accuracy\n",
    "\n",
    "After all this, try to augment the data:\n",
    "* rotations\n",
    "* flips\n",
    "* slight colour changes (for lighting conditions)"
   ]
  },
  {
   "cell_type": "code",
   "execution_count": null,
   "metadata": {},
   "outputs": [],
   "source": [
    "       \n",
    "# Filter: number of filters to learn - to be specified\n",
    "# kernel_size: height and width of filter - to be specified\n",
    "# Strides = (1,1) by default (no skip).\n",
    "# Padding (if a filter doesn't fit)\n",
    "# Activation = 'relu' (applied after calculations)\n",
    "# Bias = True by default\n",
    "\n",
    "# Consider regularisers after\n",
    "# m1.add(keras.layers.BatchNormalization())\n",
    "# m1.add(keras.layers.Dropout(0.5))\n",
    "# m1.add(keras.layers.Activation(\"relu\"))\n",
    "# m1.add(keras.layers.MaxPool2D(pool_size=3, strides=2, padding=\"same\"))\n",
    "# m1.add(keras.layers.GlobalAvgPool2D())\n",
    "# m1.add(keras.layers.Flatten())\n",
    "# m1.add(keras.layers.Dense(10, activation=\"softmax\"))\n"
   ]
  },
  {
   "cell_type": "markdown",
   "metadata": {},
   "source": [
    "## Original Model"
   ]
  },
  {
   "cell_type": "code",
   "execution_count": null,
   "metadata": {},
   "outputs": [],
   "source": [
    "m1 = keras.models.Sequential()\n",
    "\n",
    "m1.add(keras.Input(shape = (224, 224, 3)))\n",
    "\n",
    "m1.add(keras.layers.Conv2D(32, 3, activation = 'relu', padding='same'))\n",
    "m1.add(keras.layers.MaxPool2D(pool_size=3, strides=2, padding=\"same\"))\n",
    "m1.add(keras.layers.BatchNormalization())\n",
    "\n",
    "m1.add(keras.layers.Conv2D(16, 3, activation = 'relu', padding='same'))\n",
    "m1.add(keras.layers.MaxPool2D(pool_size=3, strides=2, padding=\"same\"))\n",
    "m1.add(keras.layers.BatchNormalization())\n",
    "\n",
    "\n",
    "m1.add(keras.layers.Flatten())\n",
    "m1.add(keras.layers.Dense(16, activation=\"relu\"))\n",
    "m1.add(keras.layers.BatchNormalization())\n",
    "\n",
    "# m1.add(keras.layers.Dense(128, activation=\"relu\"))\n",
    "# # m1.add(keras.layers.GlobalAveragePooling2D())\n",
    "# m1.add(keras.layers.BatchNormalization())\n",
    "m1.add(keras.layers.Dense(2, activation=\"softmax\"))\n",
    "\n",
    "optimizer = keras.optimizers.SGD(learning_rate=0.001)\n",
    "\n",
    "m1.compile(loss=\"sparse_categorical_crossentropy\",\n",
    "           optimizer=optimizer,\n",
    "           metrics=[\"accuracy\"])"
   ]
  },
  {
   "cell_type": "code",
   "execution_count": null,
   "metadata": {
    "scrolled": false
   },
   "outputs": [],
   "source": [
    "callback = keras.callbacks.EarlyStopping(monitor='val_loss', patience=3, min_delta = 0.005, restore_best_weights=True)\n",
    "\n",
    "h1 = m1.fit(train_generator.flow(Xtrain, Ytrain, batch_size=32, seed = 32), \n",
    "            epochs=23, steps_per_epoch=20,\n",
    "            validation_data = (Xval, Yval),\n",
    "            callbacks=[callback])\n",
    "\n",
    "# 32*20 = 640 examples per epoch\n",
    "# 15,000/640 = 23 epochs to cycle over the original size * 3"
   ]
  },
  {
   "cell_type": "code",
   "execution_count": null,
   "metadata": {},
   "outputs": [],
   "source": [
    "# \"sparse\"\n",
    "predss = m1.predict(Xtest)\n",
    "predss[0:15]"
   ]
  },
  {
   "cell_type": "code",
   "execution_count": null,
   "metadata": {},
   "outputs": [],
   "source": [
    "plt.hist(predss[:,0],)\n",
    "plt.axvline(0.5, c='k')\n",
    "plt.xlim(0,1)\n",
    "plt.title('Distribution of final outputs for \"bee\" (test set)')\n",
    "plt.xlabel('Final output')\n",
    "plt.ylabel('Number of instances')\n",
    "plt.savefig('Customoutput_distribution.png', dpi=300)"
   ]
  },
  {
   "cell_type": "code",
   "execution_count": null,
   "metadata": {
    "scrolled": false
   },
   "outputs": [],
   "source": [
    "# 'binary'\n",
    "\n",
    "callback = keras.callbacks.EarlyStopping(monitor='val_loss', patience=3, min_delta = 0.005, restore_best_weights=True)\n",
    "\n",
    "h1 = m1.fit(train_generator.flow(Xtrain, Ytrain, batch_size=32, seed = 46), \n",
    "            epochs=23, steps_per_epoch=20,\n",
    "            validation_data = (Xval, Yval),\n",
    "            callbacks=[callback])\n",
    "\n",
    "# 32*20 = 640 examples per epoch\n",
    "# 15,000/640 = 23 epochs to cycle over the original size * 3"
   ]
  },
  {
   "cell_type": "code",
   "execution_count": null,
   "metadata": {},
   "outputs": [],
   "source": [
    "predss2 = m1.predict(Xval)\n",
    "predss2[0:15]"
   ]
  },
  {
   "cell_type": "code",
   "execution_count": null,
   "metadata": {},
   "outputs": [],
   "source": [
    "f, ax = plt.subplots(1,2)\n",
    "f.set_figwidth(9)\n",
    "f.set_figheight(3.5)\n",
    "\n",
    "yhat = np.arange(0,1,0.01)\n",
    "ax[0].plot(yhat, -np.log(1-yhat))\n",
    "ax[0].set_xlabel('estimated y')\n",
    "ax[0].set_title('y=0')\n",
    "ax[0].set_ylabel('Cost')\n",
    "\n",
    "\n",
    "ax[1].plot(yhat, -np.log(yhat))\n",
    "ax[1].set_xlabel('estimated y')\n",
    "ax[1].set_title('y=1')\n",
    "ax[1].set_ylabel('Cost')\n",
    "\n",
    "f.savefig('loss.png', dpi=350)"
   ]
  },
  {
   "cell_type": "code",
   "execution_count": null,
   "metadata": {},
   "outputs": [],
   "source": [
    "\n",
    "Xtrain.shape"
   ]
  },
  {
   "cell_type": "code",
   "execution_count": null,
   "metadata": {},
   "outputs": [],
   "source": [
    "Xtrain.shape"
   ]
  },
  {
   "cell_type": "code",
   "execution_count": null,
   "metadata": {
    "scrolled": true
   },
   "outputs": [],
   "source": [
    "h1.model.summary()"
   ]
  },
  {
   "cell_type": "code",
   "execution_count": null,
   "metadata": {
    "scrolled": true
   },
   "outputs": [],
   "source": [
    "plot_model_metrics(h1)"
   ]
  },
  {
   "cell_type": "code",
   "execution_count": null,
   "metadata": {},
   "outputs": [],
   "source": [
    "m1.evaluate(Xtest, Ytest)"
   ]
  },
  {
   "cell_type": "code",
   "execution_count": null,
   "metadata": {
    "scrolled": false
   },
   "outputs": [],
   "source": [
    "confusion_report(Ytrain, m1.predict(Xtrain))"
   ]
  },
  {
   "cell_type": "code",
   "execution_count": null,
   "metadata": {},
   "outputs": [],
   "source": [
    "confusion_report(Yval, m1.predict(Xval))"
   ]
  },
  {
   "cell_type": "code",
   "execution_count": null,
   "metadata": {
    "scrolled": true
   },
   "outputs": [],
   "source": [
    "confusion_report(Ytest, m1.predict(Xtest))"
   ]
  },
  {
   "cell_type": "code",
   "execution_count": null,
   "metadata": {},
   "outputs": [],
   "source": [
    "hist = h1\n",
    "\n",
    "f, ax = plt.subplots(2,1)\n",
    "f.subplots_adjust(hspace=0.5)\n",
    "f.set_figwidth(6)\n",
    "f.set_figheight(8)\n",
    "\n",
    "ax[0].plot(np.arange(0,len(hist.history['loss'])), hist.history['loss'])\n",
    "ax[0].plot(np.arange(0,len(hist.history['val_loss'])), hist.history['val_loss'])\n",
    "ax[0].legend(['Training', 'Validation'])\n",
    "\n",
    "ax[0].set_xticks(ticks=np.arange(0,len(hist.history['accuracy']),2))\n",
    "ax[0].set_xticklabels(labels=1280*np.arange(0,len(hist.history['accuracy']),2))\n",
    "\n",
    "ax[0].set_xlim(0,len(hist.history['accuracy']))\n",
    "ax[0].set_xlabel('Training examples')\n",
    "ax[0].set_title('Cross Entropy')\n",
    "ax[0].set_ylim(0.40,0.75)\n",
    "\n",
    "ax[1].plot(np.arange(0,len(hist.history['accuracy'])), hist.history['accuracy'])\n",
    "ax[1].plot(np.arange(0,len(hist.history['val_accuracy'])), hist.history['val_accuracy'])\n",
    "ax[1].legend(['Training', 'Validation'])\n",
    "\n",
    "ax[1].set_xticks(ticks=np.arange(0,len(hist.history['accuracy']),2))\n",
    "\n",
    "ax[1].set_xticklabels(labels=1280*np.arange(0,len(hist.history['accuracy']),2))\n",
    "ax[1].set_xlim(0,len(hist.history['accuracy']))\n",
    "ax[1].set_xlabel('Training Examples')\n",
    "ax[1].set_title('Accuracy')\n",
    "\n",
    "f.savefig('BestLearningCurve.png', dpi=300)"
   ]
  },
  {
   "cell_type": "markdown",
   "metadata": {},
   "source": [
    "# M2"
   ]
  },
  {
   "cell_type": "code",
   "execution_count": null,
   "metadata": {},
   "outputs": [],
   "source": [
    "m2 = keras.models.Sequential()\n",
    "\n",
    "#narrow stride and pool side to capture finer details\n",
    "\n",
    "m2.add(keras.layers.Conv2D(64, 3, activation = 'relu', padding='same'))\n",
    "m2.add(keras.layers.BatchNormalization())\n",
    "m2.add(keras.layers.MaxPool2D(pool_size=2, strides=1, padding=\"same\"))\n",
    "\n",
    "m2.add(keras.layers.Conv2D(64, 3, activation = 'relu', padding='same'))\n",
    "m2.add(keras.layers.BatchNormalization())\n",
    "m2.add(keras.layers.MaxPool2D(pool_size=2, strides=1, padding=\"same\"))\n",
    "\n",
    "m2.add(keras.layers.Flatten())\n",
    "# m2.add(keras.layers.Dropout(0.3))\n",
    "m2.add(keras.layers.Dense(16, activation=\"relu\"))\n",
    "m2.add(keras.layers.BatchNormalization())\n",
    "m2.add(keras.layers.Dense(2, activation=\"softmax\"))\n",
    "\n",
    "# optimizer = keras.optimizers.SGD(lr=0.2, momentum= 0.9, decay = 0.01)\n",
    "#optimizer = keras.optimizers.Adam()\n",
    "\n",
    "m2.compile(loss=\"sparse_categorical_crossentropy\",\n",
    "           optimizer=\"adam\",\n",
    "           metrics=['accuracy'])\n"
   ]
  },
  {
   "cell_type": "code",
   "execution_count": null,
   "metadata": {
    "scrolled": true
   },
   "outputs": [],
   "source": [
    "callback = keras.callbacks.EarlyStopping(monitor='val_loss', patience=3, min_delta = 0.01)\n",
    "\n",
    "h2 = m2.fit(train_generator.flow(Xtrain, Ytrain, batch_size=32), \n",
    "            epochs=23, steps_per_epoch=20,\n",
    "            validation_data = (Xval, Yval),\n",
    "            callbacks=[callback])\n",
    "\n",
    "# 32*20 = 640 examples per epoch\n",
    "# 15,000/640 = 23 epochs to cycle over the original size * 3"
   ]
  },
  {
   "cell_type": "code",
   "execution_count": null,
   "metadata": {
    "scrolled": false
   },
   "outputs": [],
   "source": [
    "h2.model.summary()"
   ]
  },
  {
   "cell_type": "code",
   "execution_count": null,
   "metadata": {
    "scrolled": false
   },
   "outputs": [],
   "source": [
    "plot_model_metrics(h2)"
   ]
  },
  {
   "cell_type": "code",
   "execution_count": null,
   "metadata": {},
   "outputs": [],
   "source": [
    "m1.evaluate(Xtest, Ytest)"
   ]
  },
  {
   "cell_type": "code",
   "execution_count": null,
   "metadata": {
    "scrolled": false
   },
   "outputs": [],
   "source": [
    "confusion_report(Ytrain, m1.predict(Xtrain))"
   ]
  },
  {
   "cell_type": "code",
   "execution_count": null,
   "metadata": {},
   "outputs": [],
   "source": [
    "confusion_report(Yval, m1.predict(Xval))"
   ]
  },
  {
   "cell_type": "code",
   "execution_count": null,
   "metadata": {
    "scrolled": true
   },
   "outputs": [],
   "source": [
    "confusion_report(Ytest, m2.predict(Xtest))"
   ]
  },
  {
   "cell_type": "code",
   "execution_count": null,
   "metadata": {},
   "outputs": [],
   "source": [
    "hist = h2\n",
    "\n",
    "f, ax = plt.subplots(2,1)\n",
    "f.subplots_adjust(hspace=0.5)\n",
    "f.set_figwidth(6)\n",
    "f.set_figheight(8)\n",
    "\n",
    "ax[0].plot(np.arange(0,len(hist.history['loss'])), hist.history['loss'])\n",
    "ax[0].plot(np.arange(0,len(hist.history['val_loss'])), hist.history['val_loss'])\n",
    "ax[0].legend(['Training', 'Validation'])\n",
    "\n",
    "ax[0].set_xticks(ticks=np.arange(0,len(hist.history['accuracy']),2))\n",
    "ax[0].set_xticklabels(labels=1280*np.arange(0,len(hist.history['accuracy']),2))\n",
    "\n",
    "ax[0].set_xlim(0,len(hist.history['accuracy']))\n",
    "ax[0].set_xlabel('Training examples')\n",
    "ax[0].set_title('Cross Entropy')\n",
    "# ax[0].set_ylim(0.75,0.95)\n",
    "\n",
    "ax[1].plot(np.arange(0,len(hist.history['accuracy'])), hist.history['accuracy'])\n",
    "ax[1].plot(np.arange(0,len(hist.history['val_accuracy'])), hist.history['val_accuracy'])\n",
    "ax[1].legend(['Training', 'Validation'])\n",
    "\n",
    "ax[1].set_xticks(ticks=np.arange(0,len(hist.history['accuracy']),2))\n",
    "\n",
    "ax[1].set_xticklabels(labels=1280*np.arange(0,len(hist.history['accuracy']),2))\n",
    "ax[1].set_xlim(0,len(hist.history['accuracy']))\n",
    "ax[1].set_xlabel('Training Examples')\n",
    "ax[1].set_title('Accuracy')\n",
    "\n",
    "f.savefig('BestLearningCurve.png', dpi=300)"
   ]
  },
  {
   "cell_type": "markdown",
   "metadata": {},
   "source": [
    "# Results 1"
   ]
  },
  {
   "cell_type": "code",
   "execution_count": null,
   "metadata": {},
   "outputs": [],
   "source": [
    "# m2 = keras.models.Sequential()\n",
    "\n",
    "# m2.add(keras.layers.Conv2D(32, 3, activation = 'relu', padding='same'))\n",
    "# m2.add(keras.layers.BatchNormalization())\n",
    "# m2.add(keras.layers.Conv2D(32, 3, activation = 'relu', padding='same'))\n",
    "# m2.add(keras.layers.BatchNormalization())\n",
    "# m2.add(keras.layers.MaxPool2D(pool_size=3, strides=1, padding=\"same\"))\n",
    "\n",
    "# m2.add(keras.layers.Conv2D(16, 3, activation = 'relu', padding='same'))\n",
    "# m2.add(keras.layers.BatchNormalization())\n",
    "# m2.add(keras.layers.Conv2D(16, 3, activation = 'relu', padding='same'))\n",
    "# m2.add(keras.layers.BatchNormalization())\n",
    "# m2.add(keras.layers.MaxPool2D(pool_size=3, strides=1, padding=\"same\"))\n",
    "\n",
    "# m2.add(keras.layers.Flatten())\n",
    "# m2.add(keras.layers.Dropout(0.7))\n",
    "# m2.add(keras.layers.Dense(16, activation=\"relu\"))\n",
    "# m2.add(keras.layers.BatchNormalization())\n",
    "# m2.add(keras.layers.Dense(3, activation=\"softmax\"))\n",
    "\n",
    "# optimizer = keras.optimizers.SGD(lr=0.2, momentum= 0.9, decay = 0.01)\n",
    "# #optimizer = keras.optimizers.Adam()\n",
    "\n",
    "# m2.compile(loss=\"sparse_categorical_crossentropy\",\n",
    "#            optimizer=optimizer,\n",
    "#            metrics=['accuracy'])\n"
   ]
  },
  {
   "cell_type": "code",
   "execution_count": null,
   "metadata": {
    "scrolled": false
   },
   "outputs": [],
   "source": [
    "# callback = keras.callbacks.EarlyStopping(monitor='val_loss', patience=3, min_delta = 0.05)\n",
    "\n",
    "# h2 = m2.fit(train_generator.flow(Xtrain, Ytrain, batch_size=32), \n",
    "#             epochs=23, steps_per_epoch=20,\n",
    "#             validation_data = (Xval, Yval),\n",
    "#             callbacks=[callback])\n",
    "\n",
    "# # 32*20 = 640 examples per epoch\n",
    "# # 15,000/640 = 23 epochs to cycle over the original size * 3"
   ]
  },
  {
   "cell_type": "code",
   "execution_count": null,
   "metadata": {
    "scrolled": true
   },
   "outputs": [],
   "source": [
    "# plot_model_metrics(h2)"
   ]
  },
  {
   "cell_type": "markdown",
   "metadata": {},
   "source": [
    "# Result 2"
   ]
  },
  {
   "cell_type": "code",
   "execution_count": null,
   "metadata": {},
   "outputs": [],
   "source": [
    "# m2 = keras.models.Sequential()\n",
    "\n",
    "# m2.add(keras.layers.Conv2D(256, 3, activation = 'relu', padding='same'))\n",
    "# m2.add(keras.layers.BatchNormalization())\n",
    "# m2.add(keras.layers.MaxPool2D(pool_size=2, strides=1, padding=\"same\"))\n",
    "\n",
    "# m2.add(keras.layers.Conv2D(256, 3, activation = 'relu', padding='same'))\n",
    "# m2.add(keras.layers.BatchNormalization())\n",
    "# m2.add(keras.layers.MaxPool2D(pool_size=2, strides=1, padding=\"same\"))\n",
    "\n",
    "# m2.add(keras.layers.Flatten())\n",
    "# m2.add(keras.layers.Dropout(0.7))\n",
    "# m2.add(keras.layers.Dense(16, activation=\"relu\"))\n",
    "# m2.add(keras.layers.BatchNormalization())\n",
    "# m2.add(keras.layers.Dense(3, activation=\"softmax\"))\n",
    "\n",
    "# optimizer = keras.optimizers.SGD(lr=0.2, momentum= 0.9, decay = 0.01)\n",
    "# #optimizer = keras.optimizers.Adam()\n",
    "\n",
    "# m2.compile(loss=\"sparse_categorical_crossentropy\",\n",
    "#            optimizer=optimizer,\n",
    "#            metrics=['accuracy'])\n"
   ]
  },
  {
   "cell_type": "code",
   "execution_count": null,
   "metadata": {
    "scrolled": true
   },
   "outputs": [],
   "source": [
    "# callback = keras.callbacks.EarlyStopping(monitor='val_loss', patience=3, min_delta = 0.05)\n",
    "\n",
    "# h2 = m2.fit(train_generator.flow(Xtrain, Ytrain, batch_size=32), \n",
    "#             epochs=23, steps_per_epoch=20,\n",
    "#             validation_data = (Xval, Yval),\n",
    "#             callbacks=[callback])\n",
    "\n",
    "# # 32*20 = 640 examples per epoch\n",
    "# # 15,000/640 = 23 epochs to cycle over the original size * 3"
   ]
  },
  {
   "cell_type": "code",
   "execution_count": null,
   "metadata": {
    "scrolled": false
   },
   "outputs": [],
   "source": [
    "# plot_model_metrics(h2)"
   ]
  },
  {
   "cell_type": "markdown",
   "metadata": {},
   "source": [
    "# results3"
   ]
  },
  {
   "cell_type": "code",
   "execution_count": null,
   "metadata": {},
   "outputs": [],
   "source": [
    "# plot_model_metrics(h2"
   ]
  },
  {
   "cell_type": "code",
   "execution_count": null,
   "metadata": {},
   "outputs": [],
   "source": [
    "# m2 = keras.models.Sequential()\n",
    "\n",
    "# #narrow stride and pool side to capture finer details\n",
    "\n",
    "# m2.add(keras.layers.Conv2D(128, 3, activation = 'relu', padding='same'))\n",
    "# m2.add(keras.layers.BatchNormalization())\n",
    "# m2.add(keras.layers.MaxPool2D(pool_size=2, strides=1, padding=\"same\"))\n",
    "\n",
    "# m2.add(keras.layers.Conv2D(64, 3, activation = 'relu', padding='same'))\n",
    "# m2.add(keras.layers.BatchNormalization())\n",
    "# m2.add(keras.layers.MaxPool2D(pool_size=2, strides=1, padding=\"same\"))\n",
    "\n",
    "# m2.add(keras.layers.Conv2D(32, 3, activation = 'relu', padding='same'))\n",
    "# m2.add(keras.layers.BatchNormalization())\n",
    "# m2.add(keras.layers.MaxPool2D(pool_size=2, strides=1, padding=\"same\"))\n",
    "\n",
    "# m2.add(keras.layers.Flatten())\n",
    "# m2.add(keras.layers.Dropout(0.7))\n",
    "# m2.add(keras.layers.Dense(16, activation=\"relu\"))\n",
    "# m2.add(keras.layers.BatchNormalization())\n",
    "# m2.add(keras.layers.Dense(3, activation=\"softmax\"))\n",
    "\n",
    "# optimizer = keras.optimizers.SGD(lr=0.2, momentum= 0.9, decay = 0.01)\n",
    "# #optimizer = keras.optimizers.Adam()\n",
    "\n",
    "# m2.compile(loss=\"sparse_categorical_crossentropy\",\n",
    "#            optimizer=optimizer,\n",
    "#            metrics=['accuracy'])\n"
   ]
  },
  {
   "cell_type": "code",
   "execution_count": null,
   "metadata": {
    "scrolled": true
   },
   "outputs": [],
   "source": [
    "# callback = keras.callbacks.EarlyStopping(monitor='val_loss', patience=3, min_delta = 0.05)\n",
    "\n",
    "# h2 = m2.fit(train_generator.flow(Xtrain, Ytrain, batch_size=32), \n",
    "#             epochs=23, steps_per_epoch=20,\n",
    "#             validation_data = (Xval, Yval),\n",
    "#             callbacks=[callback])\n",
    "\n",
    "# # 32*20 = 640 examples per epoch\n",
    "# # 15,000/640 = 23 epochs to cycle over the original size * 3"
   ]
  }
 ],
 "metadata": {
  "kernelspec": {
   "display_name": "Python 3 (Anaconda 3)",
   "language": "python",
   "name": "anaconda3-python3"
  },
  "language_info": {
   "codemirror_mode": {
    "name": "ipython",
    "version": 3
   },
   "file_extension": ".py",
   "mimetype": "text/x-python",
   "name": "python",
   "nbconvert_exporter": "python",
   "pygments_lexer": "ipython3",
   "version": "3.8.3"
  }
 },
 "nbformat": 4,
 "nbformat_minor": 2
}
