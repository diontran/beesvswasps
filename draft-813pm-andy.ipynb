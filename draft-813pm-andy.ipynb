{
 "cells": [
  {
   "cell_type": "code",
   "execution_count": 1,
   "metadata": {},
   "outputs": [],
   "source": [
    "import pandas as pd\n",
    "import numpy as np\n",
    "import matplotlib.pyplot as plt\n",
    "import keras"
   ]
  },
  {
   "cell_type": "code",
   "execution_count": 2,
   "metadata": {},
   "outputs": [],
   "source": [
    "import os\n",
    "\n",
    "# Customised for Andy's setup\n",
    "os.chdir('SharedFiles/MAST30034-Group-Project/')"
   ]
  },
  {
   "cell_type": "code",
   "execution_count": 3,
   "metadata": {},
   "outputs": [],
   "source": [
    "# labels_path = os.join()\n",
    "\n",
    "# Customised for Andy's setup\n",
    "labels = pd.read_csv(\"kaggle_bee_vs_wasp/labels.csv\")\n",
    "labels['path'] = labels['path'].str.replace(\"\\\\\", \"/\")"
   ]
  },
  {
   "cell_type": "markdown",
   "metadata": {},
   "source": [
    "By removing the low quality photos, we get rid of the is_other instances"
   ]
  },
  {
   "cell_type": "code",
   "execution_count": 4,
   "metadata": {},
   "outputs": [],
   "source": [
    "high_quality_entries = labels[labels[\"photo_quality\"] == 1]"
   ]
  },
  {
   "cell_type": "code",
   "execution_count": 5,
   "metadata": {},
   "outputs": [
    {
     "name": "stdout",
     "output_type": "stream",
     "text": [
      "(7035, 10)\n"
     ]
    },
    {
     "data": {
      "text/html": [
       "<div>\n",
       "<style scoped>\n",
       "    .dataframe tbody tr th:only-of-type {\n",
       "        vertical-align: middle;\n",
       "    }\n",
       "\n",
       "    .dataframe tbody tr th {\n",
       "        vertical-align: top;\n",
       "    }\n",
       "\n",
       "    .dataframe thead th {\n",
       "        text-align: right;\n",
       "    }\n",
       "</style>\n",
       "<table border=\"1\" class=\"dataframe\">\n",
       "  <thead>\n",
       "    <tr style=\"text-align: right;\">\n",
       "      <th></th>\n",
       "      <th>id</th>\n",
       "      <th>path</th>\n",
       "      <th>is_bee</th>\n",
       "      <th>is_wasp</th>\n",
       "      <th>is_otherinsect</th>\n",
       "      <th>is_other</th>\n",
       "      <th>photo_quality</th>\n",
       "      <th>is_validation</th>\n",
       "      <th>is_final_validation</th>\n",
       "      <th>label</th>\n",
       "    </tr>\n",
       "  </thead>\n",
       "  <tbody>\n",
       "    <tr>\n",
       "      <th>0</th>\n",
       "      <td>1</td>\n",
       "      <td>bee1/10007154554_026417cfd0_n.jpg</td>\n",
       "      <td>1</td>\n",
       "      <td>0</td>\n",
       "      <td>0</td>\n",
       "      <td>0</td>\n",
       "      <td>1</td>\n",
       "      <td>0</td>\n",
       "      <td>0</td>\n",
       "      <td>bee</td>\n",
       "    </tr>\n",
       "    <tr>\n",
       "      <th>1</th>\n",
       "      <td>2</td>\n",
       "      <td>bee1/10024864894_6dc54d4b34_n.jpg</td>\n",
       "      <td>1</td>\n",
       "      <td>0</td>\n",
       "      <td>0</td>\n",
       "      <td>0</td>\n",
       "      <td>1</td>\n",
       "      <td>0</td>\n",
       "      <td>1</td>\n",
       "      <td>bee</td>\n",
       "    </tr>\n",
       "    <tr>\n",
       "      <th>2</th>\n",
       "      <td>3</td>\n",
       "      <td>bee1/10092043833_7306dfd1f0_n.jpg</td>\n",
       "      <td>1</td>\n",
       "      <td>0</td>\n",
       "      <td>0</td>\n",
       "      <td>0</td>\n",
       "      <td>1</td>\n",
       "      <td>1</td>\n",
       "      <td>0</td>\n",
       "      <td>bee</td>\n",
       "    </tr>\n",
       "    <tr>\n",
       "      <th>3</th>\n",
       "      <td>4</td>\n",
       "      <td>bee1/1011948979_fc3637e779_w.jpg</td>\n",
       "      <td>1</td>\n",
       "      <td>0</td>\n",
       "      <td>0</td>\n",
       "      <td>0</td>\n",
       "      <td>1</td>\n",
       "      <td>0</td>\n",
       "      <td>1</td>\n",
       "      <td>bee</td>\n",
       "    </tr>\n",
       "    <tr>\n",
       "      <th>4</th>\n",
       "      <td>5</td>\n",
       "      <td>bee1/10128235063_dca17db76c_n.jpg</td>\n",
       "      <td>1</td>\n",
       "      <td>0</td>\n",
       "      <td>0</td>\n",
       "      <td>0</td>\n",
       "      <td>1</td>\n",
       "      <td>0</td>\n",
       "      <td>0</td>\n",
       "      <td>bee</td>\n",
       "    </tr>\n",
       "  </tbody>\n",
       "</table>\n",
       "</div>"
      ],
      "text/plain": [
       "   id                               path  is_bee  is_wasp  is_otherinsect  \\\n",
       "0   1  bee1/10007154554_026417cfd0_n.jpg       1        0               0   \n",
       "1   2  bee1/10024864894_6dc54d4b34_n.jpg       1        0               0   \n",
       "2   3  bee1/10092043833_7306dfd1f0_n.jpg       1        0               0   \n",
       "3   4   bee1/1011948979_fc3637e779_w.jpg       1        0               0   \n",
       "4   5  bee1/10128235063_dca17db76c_n.jpg       1        0               0   \n",
       "\n",
       "   is_other  photo_quality  is_validation  is_final_validation label  \n",
       "0         0              1              0                    0   bee  \n",
       "1         0              1              0                    1   bee  \n",
       "2         0              1              1                    0   bee  \n",
       "3         0              1              0                    1   bee  \n",
       "4         0              1              0                    0   bee  "
      ]
     },
     "execution_count": 5,
     "metadata": {},
     "output_type": "execute_result"
    }
   ],
   "source": [
    "print(high_quality_entries.shape)\n",
    "high_quality_entries.head()"
   ]
  },
  {
   "cell_type": "code",
   "execution_count": 6,
   "metadata": {},
   "outputs": [
    {
     "data": {
      "text/plain": [
       "(array(['bee', 'insect', 'wasp'], dtype=object), array([2469, 2439, 2127]))"
      ]
     },
     "execution_count": 6,
     "metadata": {},
     "output_type": "execute_result"
    }
   ],
   "source": [
    "np.unique(high_quality_entries[\"label\"], return_counts = True)"
   ]
  },
  {
   "cell_type": "code",
   "execution_count": 7,
   "metadata": {},
   "outputs": [
    {
     "data": {
      "text/plain": [
       "0"
      ]
     },
     "execution_count": 7,
     "metadata": {},
     "output_type": "execute_result"
    }
   ],
   "source": [
    "# no non-insects found in the dataset\n",
    "list(high_quality_entries[\"is_other\"]).count(1)"
   ]
  },
  {
   "cell_type": "code",
   "execution_count": 8,
   "metadata": {},
   "outputs": [],
   "source": [
    "from sklearn.model_selection import train_test_split\n",
    "\n",
    "images_path = high_quality_entries[\"path\"].values.reshape(-1, 1)\n",
    "labels = high_quality_entries[\"label\"].values.reshape(-1, 1)\n",
    "images_train_path, images_test_path, label_train, label_test = train_test_split(images_path, labels, test_size = 0.3, random_state = 30034, stratify = labels)"
   ]
  },
  {
   "cell_type": "markdown",
   "metadata": {},
   "source": [
    "# Data"
   ]
  },
  {
   "cell_type": "code",
   "execution_count": 9,
   "metadata": {},
   "outputs": [],
   "source": [
    "from matplotlib.image import imread"
   ]
  },
  {
   "cell_type": "code",
   "execution_count": 10,
   "metadata": {},
   "outputs": [
    {
     "name": "stdout",
     "output_type": "stream",
     "text": [
      "4924 images were read.\n"
     ]
    }
   ],
   "source": [
    "images = []\n",
    "\n",
    "for image_path in images_train_path:\n",
    "    #image_path = image_path.replace(\"\\\\\", \"/\")\n",
    "    images.append(imread(os.path.join(\"kaggle_bee_vs_wasp\", image_path[0])))\n",
    "    \n",
    "print(len(images), 'images were read.')"
   ]
  },
  {
   "cell_type": "code",
   "execution_count": 11,
   "metadata": {
    "scrolled": false
   },
   "outputs": [],
   "source": [
    "# #If you need to check the images.\n",
    "\n",
    "# #imread outputs integers between 0-255\n",
    "\n",
    "# #images[0]\n",
    "# f,ax = plt.subplots(3,3)\n",
    "# for i in range(3):\n",
    "#     for j in range(3):\n",
    "#         ax[i,j].imshow(images[i+3*j])"
   ]
  },
  {
   "cell_type": "markdown",
   "metadata": {},
   "source": [
    "## Resize"
   ]
  },
  {
   "cell_type": "code",
   "execution_count": 12,
   "metadata": {},
   "outputs": [],
   "source": [
    "from skimage.transform import resize"
   ]
  },
  {
   "cell_type": "code",
   "execution_count": 13,
   "metadata": {
    "scrolled": true
   },
   "outputs": [
    {
     "name": "stdout",
     "output_type": "stream",
     "text": [
      "2538\n",
      "4163\n"
     ]
    }
   ],
   "source": [
    "# resize images to 224 x 224 \n",
    "for im in range(len(images)):\n",
    "    images[im] = resize(images[im], (224,224))\n",
    "    if images[im].shape != (224,224,3):\n",
    "        print(im)"
   ]
  },
  {
   "cell_type": "code",
   "execution_count": 14,
   "metadata": {},
   "outputs": [],
   "source": [
    "# Skimage outputs floats between 0-1\n",
    "\n",
    "#print(images[0])"
   ]
  },
  {
   "cell_type": "markdown",
   "metadata": {},
   "source": [
    "## Remove 1 image, manually change another"
   ]
  },
  {
   "cell_type": "code",
   "execution_count": 15,
   "metadata": {},
   "outputs": [
    {
     "data": {
      "text/plain": [
       "array(['bee1/509769820_83fa0a3ea9_n.jpg'], dtype=object)"
      ]
     },
     "execution_count": 15,
     "metadata": {},
     "output_type": "execute_result"
    }
   ],
   "source": [
    "images_train_path[4163]"
   ]
  },
  {
   "cell_type": "markdown",
   "metadata": {},
   "source": [
    "The images are supposed to have 3 channels - RGB\n",
    "\n",
    "There are 2 anomalous images.\n",
    "Image 2538 ('wasp1/50988238_1c313384d9_n.jpg') is black and white (1-channel)\n",
    "\n",
    "Image 4163 ('bee1/509769820_83fa0a3ea9_n.jpg') has an extra channel for transparency, which can be removed."
   ]
  },
  {
   "cell_type": "code",
   "execution_count": 16,
   "metadata": {
    "scrolled": true
   },
   "outputs": [
    {
     "data": {
      "text/plain": [
       "<matplotlib.image.AxesImage at 0x7f77fde91e50>"
      ]
     },
     "execution_count": 16,
     "metadata": {},
     "output_type": "execute_result"
    },
    {
     "data": {
      "image/png": "[encoded data removed]",
      "text/plain": [
       "<Figure size 432x288 with 3 Axes>"
      ]
     },
     "metadata": {
      "needs_background": "light"
     },
     "output_type": "display_data"
    }
   ],
   "source": [
    "f, ax = plt.subplots(1,3)\n",
    "\n",
    "# left: Original\n",
    "ax[0].imshow(images[4163])\n",
    "\n",
    "# middle: Transparency removed, still the same\n",
    "ax[1].imshow(images[4163][:,:,0:3])\n",
    "\n",
    "# right: This is how the original looks like in the file.\n",
    "# I had to subtract and add greys to reproduce it here for convenience.\n",
    "ax[2].imshow(-images[2538], cmap='Greys')"
   ]
  },
  {
   "cell_type": "code",
   "execution_count": 17,
   "metadata": {},
   "outputs": [
    {
     "name": "stdout",
     "output_type": "stream",
     "text": [
      "number of images in data: 4923\n"
     ]
    }
   ],
   "source": [
    "#remove the 4th channel for the other\n",
    "images[4163] = images[4163][:,:,0:3]\n",
    "    \n",
    "# Delete the black and white one,\n",
    "del images[2538]\n",
    "label_train_deleted = np.delete(label_train, [2538])\n",
    "\n",
    "print('number of images in data:', len(images))"
   ]
  },
  {
   "cell_type": "markdown",
   "metadata": {},
   "source": [
    "## Encoding the image labels"
   ]
  },
  {
   "cell_type": "code",
   "execution_count": 18,
   "metadata": {},
   "outputs": [],
   "source": [
    "from sklearn.preprocessing import LabelEncoder"
   ]
  },
  {
   "cell_type": "code",
   "execution_count": 19,
   "metadata": {
    "scrolled": true
   },
   "outputs": [
    {
     "name": "stdout",
     "output_type": "stream",
     "text": [
      "[2 2 0 1 0 2]\n",
      "number of labels: 4923\n"
     ]
    }
   ],
   "source": [
    "# Encode as integers\n",
    "encoder = LabelEncoder()\n",
    "transformed_label = encoder.fit_transform(np.ravel(label_train_deleted))\n",
    "print(transformed_label[0:6])\n",
    "\n",
    "print('number of labels:', len(transformed_label))"
   ]
  },
  {
   "cell_type": "markdown",
   "metadata": {},
   "source": [
    "# Data augmentation\n",
    "\n",
    "Split a training set from a validation set first, to prevent data leakage.\n",
    "Augment a training set.\n",
    "\n",
    "https://stats.stackexchange.com/questions/175504/how-to-do-data-augmentation-and-train-validate-split"
   ]
  },
  {
   "cell_type": "code",
   "execution_count": 20,
   "metadata": {},
   "outputs": [
    {
     "data": {
      "text/plain": [
       "(4923, 224, 224, 3)"
      ]
     },
     "execution_count": 20,
     "metadata": {},
     "output_type": "execute_result"
    }
   ],
   "source": [
    "image_array = np.array(images)\n",
    "image_array.shape"
   ]
  },
  {
   "cell_type": "code",
   "execution_count": 21,
   "metadata": {},
   "outputs": [
    {
     "name": "stdout",
     "output_type": "stream",
     "text": [
      "(3692, 224, 224, 3) (3692,)\n",
      "(1231, 224, 224, 3) (1231,)\n"
     ]
    }
   ],
   "source": [
    "#Train/validation split\n",
    "\n",
    "\n",
    "Xtrain, Xval, Ytrain, Yval = train_test_split(image_array, transformed_label, \n",
    "                                              test_size = 0.25, random_state = 30034, \n",
    "                                              stratify = transformed_label)\n",
    "\n",
    "print(Xtrain.shape, Ytrain.shape)\n",
    "print(Xval.shape, Yval.shape)"
   ]
  },
  {
   "cell_type": "code",
   "execution_count": 22,
   "metadata": {},
   "outputs": [],
   "source": [
    "# Augmented training data\n",
    "train_generator = keras.preprocessing.image.ImageDataGenerator(\n",
    "    #featurewise_center=True, featurewise_std_normalization=True,\n",
    "    rotation_range=90,\n",
    "    zoom_range=0.4,\n",
    "    horizontal_flip=True,\n",
    "    width_shift_range=0.1,\n",
    "    height_shift_range=0.1,\n",
    "    channel_shift_range=0.3\n",
    ")\n",
    "\n",
    "# No augmentation on validation\n",
    "val_generator = keras.preprocessing.image.ImageDataGenerator()\n",
    "\n",
    "train_generator.fit(Xtrain)"
   ]
  },
  {
   "cell_type": "code",
   "execution_count": 23,
   "metadata": {
    "scrolled": false
   },
   "outputs": [],
   "source": [
    "# # If images need to be viewed\n",
    "\n",
    "# augmented_train = train_generator.flow(Xtrain, Ytrain, batch_size=32)\n",
    "\n",
    "# for i in range(9):\n",
    "#     # define subplot\n",
    "#     plt.subplot(330 + 1 + i)\n",
    "#     # generate batch of images\n",
    "#     batch = augmented_images.next()\n",
    "#     # convert to unsigned integers for viewing\n",
    "#     image = batch[0]\n",
    "#     # plot raw pixel data\n",
    "#     image = np.reshape(image, (224,224,3))\n",
    "#     plt.imshow(image)"
   ]
  },
  {
   "cell_type": "markdown",
   "metadata": {},
   "source": [
    "# Prepare for model"
   ]
  },
  {
   "cell_type": "code",
   "execution_count": 24,
   "metadata": {},
   "outputs": [],
   "source": [
    "# images = np.array(images)\n",
    "# inputs = keras.applications.resnet50.preprocess_input(images) "
   ]
  },
  {
   "cell_type": "markdown",
   "metadata": {},
   "source": [
    "# Model - MobileNetV2 (baseline)\n",
    "\n",
    "3692 images in a training set. Augmented images will be generated from this set for training.\n",
    "\n",
    "1231 unaugmented images will be used for validation."
   ]
  },
  {
   "cell_type": "code",
   "execution_count": 25,
   "metadata": {},
   "outputs": [
    {
     "name": "stdout",
     "output_type": "stream",
     "text": [
      "(array([0, 1, 2]), array([1728, 1707, 1488]))\n",
      "0.3510054844606947\n"
     ]
    }
   ],
   "source": [
    "# OR baseline\n",
    "print(np.unique(transformed_label, return_counts=True))\n",
    "print(1728/len(transformed_label)) #35% is the baseline"
   ]
  },
  {
   "cell_type": "code",
   "execution_count": 26,
   "metadata": {
    "scrolled": true
   },
   "outputs": [
    {
     "name": "stdout",
     "output_type": "stream",
     "text": [
      "WARNING:tensorflow:`input_shape` is undefined or non-square, or `rows` is not in [96, 128, 160, 192, 224]. Weights for input shape (224, 224) will be loaded as the default.\n"
     ]
    }
   ],
   "source": [
    "mbnet = keras.applications.mobilenet_v2.MobileNetV2(include_top=False, weights='imagenet')\n",
    "avg = keras.layers.GlobalAveragePooling2D()(mbnet.output)\n",
    "#drop = keras.layers.Dropout(0.7)(avg)\n",
    "output = keras.layers.Dense(3, activation='softmax')(avg)\n",
    "\n",
    "m0 = keras.Model(inputs = mbnet.input, outputs = output)\n",
    "\n",
    "for layer in mbnet.layers:\n",
    "    layer.trainable = False\n",
    "\n",
    "optimizer = keras.optimizers.SGD(lr=0.2, momentum= 0.9, decay = 0.01)\n",
    "\n",
    "m0.compile(loss=\"sparse_categorical_crossentropy\", \n",
    "           optimizer=optimizer,\n",
    "           metrics=[\"accuracy\"])"
   ]
  },
  {
   "cell_type": "code",
   "execution_count": 27,
   "metadata": {},
   "outputs": [
    {
     "name": "stdout",
     "output_type": "stream",
     "text": [
      "100/100 [==============================] - 335s 3s/step - loss: 7.8968 - accuracy: 0.7556 - val_loss: 3.2772 - val_accuracy: 0.8446\n"
     ]
    }
   ],
   "source": [
    "h0 = m0.fit(train_generator.flow(Xtrain, Ytrain, batch_size=32), \n",
    "            epochs=1, steps_per_epoch=100,\n",
    "            validation_data = val_generator.flow(Xval, Yval, batch_size=32),\n",
    "            validation_steps = int(len(Yval)/32))"
   ]
  },
  {
   "cell_type": "code",
   "execution_count": 28,
   "metadata": {},
   "outputs": [
    {
     "name": "stdout",
     "output_type": "stream",
     "text": [
      "39/39 [==============================] - 85s 2s/step - loss: 3.3631 - accuracy: 0.8424\n"
     ]
    },
    {
     "data": {
      "text/plain": [
       "[3.363102674484253, 0.8424045443534851]"
      ]
     },
     "execution_count": 28,
     "metadata": {},
     "output_type": "execute_result"
    }
   ],
   "source": [
    "m0.evaluate(Xval,Yval)"
   ]
  },
  {
   "cell_type": "code",
   "execution_count": 29,
   "metadata": {},
   "outputs": [],
   "source": [
    "# Final (15 epochs): 84-86% in training, 80-86% in validation"
   ]
  },
  {
   "cell_type": "markdown",
   "metadata": {},
   "source": [
    "# Model Design\n",
    "\n",
    "Speeding up training:\n",
    "* Batch normalisation, Adam optimisation\n",
    "\n",
    "Design options\n",
    "* Convolution: Window size, Stride\n",
    "* Activation functions: Softmax, ReLU\n",
    "* Pooling: Average, Max\n",
    "* Dense layer - fully connected.\n",
    "\n",
    "Regularisation options\n",
    "* Dropout: for regularisation\n",
    "\n",
    "Other options\n",
    "* Residual block (resnet)\n",
    "* Batch normalisation: makes models faster and more stable.\n",
    "\n",
    "Design recommendations\n",
    "* Multiple 3x3 convolutions are preferred.\n",
    "* Downsample by using pooling to reduce spatial information\n",
    "* Common paradigm is to use max pooling in the network, and average pooling at the end, before the last dense layer\n",
    "* Depth tends to result in higher accuracy\n",
    "\n",
    "After all this, try to augment the data:\n",
    "* rotations\n",
    "* flips\n",
    "* slight colour changes (for lighting conditions)"
   ]
  },
  {
   "cell_type": "code",
   "execution_count": null,
   "metadata": {},
   "outputs": [],
   "source": [
    "       \n",
    "# Filter: number of filters to learn - to be specified\n",
    "# kernel_size: height and width of filter - to be specified\n",
    "# Strides = (1,1) by default (no skip).\n",
    "# Padding (if a filter doesn't fit)\n",
    "# Activation = 'relu' (applied after calculations)\n",
    "# Bias = True by default\n",
    "# Consider regularisers after\n",
    "# m1.add(keras.layers.BatchNormalization())\n",
    "# m1.add(keras.layers.Dropout(0.5))\n",
    "# m1.add(keras.layers.Activation(\"relu\"))\n",
    "# m1.add(keras.layers.MaxPool2D(pool_size=3, strides=2, padding=\"same\"))\n",
    "# m1.add(keras.layers.GlobalAvgPool2D())\n",
    "# m1.add(keras.layers.Flatten())\n",
    "# m1.add(keras.layers.Dense(10, activation=\"softmax\"))\n"
   ]
  },
  {
   "cell_type": "markdown",
   "metadata": {},
   "source": [
    "## Original Model"
   ]
  },
  {
   "cell_type": "code",
   "execution_count": null,
   "metadata": {},
   "outputs": [],
   "source": [
    "m1 = keras.models.Sequential()\n",
    "\n",
    "m1.add(keras.layers.Conv2D(128, 3, activation = 'relu', padding='same'))\n",
    "m1.add(keras.layers.MaxPool2D(pool_size=3, strides=2, padding=\"same\"))\n",
    "m1.add(keras.layers.BatchNormalization())\n",
    "\n",
    "m1.add(keras.layers.Conv2D(64, 3, activation = 'relu', padding='same'))\n",
    "m1.add(keras.layers.MaxPool2D(pool_size=3, strides=2, padding=\"same\"))\n",
    "m1.add(keras.layers.BatchNormalization())\n",
    "\n",
    "m1.add(keras.layers.Conv2D(32, 3, activation = 'relu', padding='same'))\n",
    "m1.add(keras.layers.MaxPool2D(pool_size=3, strides=2, padding=\"same\"))\n",
    "m1.add(keras.layers.BatchNormalization())\n",
    "\n",
    "m1.add(keras.layers.Conv2D(32, 3, activation = 'relu', padding='same'))\n",
    "m1.add(keras.layers.MaxPool2D(pool_size=3, strides=2, padding=\"same\"))\n",
    "m1.add(keras.layers.BatchNormalization())\n",
    "\n",
    "m1.add(keras.layers.Conv2D(16, 3, activation = 'relu', padding='same'))\n",
    "m1.add(keras.layers.MaxPool2D(pool_size=3, strides=2, padding=\"same\"))\n",
    "m1.add(keras.layers.BatchNormalization())\n",
    "\n",
    "m1.add(keras.layers.GlobalAveragePooling2D())\n",
    "# m1.add(keras.layers.BatchNormalization())\n",
    "m1.add(keras.layers.Dense(3, activation=\"softmax\"))\n",
    "\n",
    "#optimizer = keras.optimizers.SGD(lr=0.2, momentum= 0.9, decay = 0.01)\n",
    "\n",
    "optimizer = keras.optimizers.Adam()\n",
    "\n",
    "m1.compile(loss=\"sparse_categorical_crossentropy\",\n",
    "           optimizer=optimizer,\n",
    "           metrics=[\"accuracy\"])\n"
   ]
  },
  {
   "cell_type": "code",
   "execution_count": null,
   "metadata": {
    "scrolled": true
   },
   "outputs": [],
   "source": [
    "h1 = m1.fit(train_generator.flow(Xtrain, Ytrain, batch_size=32), \n",
    "            epochs=1, steps_per_epoch=100,\n",
    "            validation_data = val_generator.flow(Xval, Yval, batch_size=32),\n",
    "            validation_steps = int(len(Yval)/32))"
   ]
  },
  {
   "cell_type": "markdown",
   "metadata": {},
   "source": [
    "# Assessment of model fit\n",
    "\n",
    "Check for overfitting\n",
    "Epoch vs. [Training accuracy, training loss, validation accuracy, validation loss]\n",
    "\n",
    "\n",
    "To do: checkpointing on training. Want to be able to load a previous model and continue training\n"
   ]
  },
  {
   "cell_type": "code",
   "execution_count": null,
   "metadata": {},
   "outputs": [],
   "source": []
  }
 ],
 "metadata": {
  "kernelspec": {
   "display_name": "Python 3 (Anaconda 3)",
   "language": "python",
   "name": "anaconda3-python3"
  },
  "language_info": {
   "codemirror_mode": {
    "name": "ipython",
    "version": 3
   },
   "file_extension": ".py",
   "mimetype": "text/x-python",
   "name": "python",
   "nbconvert_exporter": "python",
   "pygments_lexer": "ipython3",
   "version": "3.8.3"
  }
 },
 "nbformat": 4,
 "nbformat_minor": 2
}
